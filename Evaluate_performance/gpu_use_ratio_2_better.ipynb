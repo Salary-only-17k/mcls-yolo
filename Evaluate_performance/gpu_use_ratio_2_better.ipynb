{
 "cells": [
  {
   "cell_type": "code",
   "execution_count": 1,
   "id": "82cf704f-fa98-4995-a331-3f0e24c1a081",
   "metadata": {},
   "outputs": [],
   "source": [
    "from pynvml import *\n",
    "import time\n",
    "import multiprocessing as mp\n",
    "import torch\n",
    "import pathlib\n",
    "import datetime as dt\n",
    "import platform\n",
    "import psutil\n",
    "import os\n",
    "import numpy as np\n",
    "import matplotlib.pyplot as plt\n",
    "import warnings\n",
    "warnings.filterwarnings(\"ignore\")\n",
    "\n",
    "# 自定义的网络\n",
    "from resnet_2 import *\n",
    "from y_cls import *\n",
    "from y_cls_1head import *"
   ]
  },
  {
   "cell_type": "code",
   "execution_count": 2,
   "id": "ef1d23bc-aa30-49ba-ae6b-12acc456a644",
   "metadata": {},
   "outputs": [],
   "source": [
    "gpu_id = 0\n",
    "\"\"\"\n",
    "平台信息\n",
    "gpu个数\n",
    "for 模型：\n",
    "    gpu显存-使用率\n",
    "    内存使用率\n",
    "    速度\n",
    "    统计使用率 效果不好\n",
    "\"\"\"\n",
    "N:int = 500\n",
    "# COLOR:list = list({'aliceblue':       '#F0F8FF',\n",
    "#         'antiquewhite':     '#FAEBD7',\n",
    "#         'aqua':             '#00FFFF',\n",
    "#         'aquamarine':       '#7FFFD4',\n",
    "#         'azure':            '#F0FFFF',\n",
    "#         'beige':            '#F5F5DC',\n",
    "#         'bisque':           '#FFE4C4',\n",
    "#         'black':            '#000000',\n",
    "#         'blanchedalmond':   '#FFEBCD',\n",
    "#         'blue':             '#0000FF',\n",
    "#         'blueviolet':       '#8A2BE2'}.values())\n",
    "\n",
    "COLOR = ['r','g','b','y','c','m','k','w']"
   ]
  },
  {
   "cell_type": "markdown",
   "id": "21b092c6-9bae-4632-a816-09fa3ccdcda6",
   "metadata": {},
   "source": [
    "1 获取GPU信息"
   ]
  },
  {
   "cell_type": "code",
   "execution_count": 4,
   "id": "5ebf126b-c86d-4c38-825d-20cd94b2a085",
   "metadata": {},
   "outputs": [],
   "source": [
    "def get_device_info():\n",
    "    nvidia_dict = {\n",
    "        \"state\": True,\n",
    "        \"nvidia_version\": \"\",\n",
    "        \"nvidia_count\": 0,\n",
    "        \"gpus\": []\n",
    "    }\n",
    "    try:\n",
    "        nvmlInit()\n",
    "        nvidia_dict[\"nvidia_version\"] = nvmlSystemGetDriverVersion().decode('utf-8')\n",
    "        nvidia_dict[\"nvidia_count\"] = nvmlDeviceGetCount()\n",
    "        for i in range(nvidia_dict[\"nvidia_count\"]):\n",
    "            handle = nvmlDeviceGetHandleByIndex(i)\n",
    "            memory_info = nvmlDeviceGetMemoryInfo(handle)\n",
    "            gpu = {\n",
    "                \"gpu_name\": nvmlDeviceGetName(handle).decode('utf-8'),\n",
    "                \"total\": memory_info.total,\n",
    "                \"free\": memory_info.free,\n",
    "                \"used\": memory_info.used,\n",
    "                \"temperature\": f\"{nvmlDeviceGetTemperature(handle, 0)}℃\",\n",
    "                \"powerStatus\": nvmlDeviceGetPowerState(handle)\n",
    "            }\n",
    "            nvidia_dict['gpus'].append(gpu)\n",
    "    except NVMLError as _:\n",
    "        nvidia_dict[\"state\"] = False\n",
    "    except Exception as _:\n",
    "        nvidia_dict[\"state\"] = False\n",
    "    finally:\n",
    "        try:\n",
    "            nvmlShutdown()\n",
    "        except:\n",
    "            pass\n",
    "    return nvidia_dict\n",
    "def check_gpu_mem_usedRate(share_sign,share_log):\n",
    "    linear = []\n",
    "    points=[]\n",
    "    points_lst=[]\n",
    "    n=0\n",
    "    while True:\n",
    "        info = get_device_info()\n",
    "        used = info['gpus'][0]['used']  #第0号GPU 检测\n",
    "        tot = info['gpus'][0]['total']  #第0号GPU 检测\n",
    "        linear.append(used/tot)\n",
    "        if share_sign['recording'][1] and len(points)==0:\n",
    "            points=[n]\n",
    "        elif (n!=0) and (not share_sign['recording'][1]) and len(points)==1:\n",
    "            points += [n]\n",
    "            points_lst.append({share_sign['recording'][0]:points})\n",
    "            points=[]\n",
    "        n+=1\n",
    "        if not share_sign['state']:\n",
    "            break # 跳出监控gpu循环\n",
    "    share_log['cut-points']=points_lst\n",
    "    share_log['gpu-used-ratio'] = linear\n",
    "    share_sign['close'] = True\n",
    "    "
   ]
  },
  {
   "cell_type": "markdown",
   "id": "8f1e8e76-7f06-41d6-83bd-aaf6a033ffd7",
   "metadata": {},
   "source": [
    "2 获取CPU信息  没有获取infer中cpu信息，原因是在infer过程中cpu几乎用不到计算。"
   ]
  },
  {
   "cell_type": "code",
   "execution_count": 5,
   "id": "ba2f5288-6a00-49a7-9cee-64f9355c3775",
   "metadata": {},
   "outputs": [],
   "source": [
    "\n",
    "def get_host_info():\n",
    "    host_dict = {\n",
    "        \"system_info\": \"\",\n",
    "        \"memory_used_ratio\": 0,\n",
    "        \"cpu\": []\n",
    "    }\n",
    "    host_dict[\"system_info\"] = platform.platform()\n",
    "    host_dict[\"memory_used_ratio\"] = psutil.virtual_memory().percent\n",
    "    host_dict[\"cpu\"]= psutil.cpu_count(logical=False)\n",
    "    return host_dict\n",
    "\n",
    "def costime(model_pth_lst,share_sign,share_log):\n",
    "    data = torch.randn(1,3,224,224,device='cuda:0')\n",
    "    share_log['input-data-shape'] = f'[1, 3, 224, 224]   cuda:0'\n",
    "    check_info = dict()\n",
    "    device = torch.device(\"cuda:0\")\n",
    "    with torch.no_grad():\n",
    "        for k,m_pth in model_pth_lst.items():\n",
    "            print(f'[INFO]   {k} start to check...')\n",
    "            model = torch.load(m_pth).to(device=device)\n",
    "            share_sign['recording'] = [k,True]\n",
    "            for _ in range(4):\n",
    "                model(data)\n",
    "            Start_time = time.time()\n",
    "            for _ in range(N):\n",
    "                model(data)\n",
    "            check_info[k]= f'{(time.time()-Start_time)/N:.6f} s'\n",
    "            share_sign['recording'] = [k,False]\n",
    "            del model\n",
    "            time.sleep(10)\n",
    "            print(f'[INFO]   {k} checked~')\n",
    "    share_log['every-infer-cost-time'] = check_info\n",
    "    share_sign['state'] = False\n",
    "    while True:\n",
    "        time.sleep(0.5)\n",
    "        if share_sign['close']:\n",
    "            break\n",
    "   "
   ]
  },
  {
   "cell_type": "markdown",
   "id": "5aa3c57e-692b-466d-b510-3eb6ee8ef74d",
   "metadata": {},
   "source": [
    "3 获取权重文件列表"
   ]
  },
  {
   "cell_type": "code",
   "execution_count": 7,
   "id": "06c16860-6237-4ad1-a29d-0b8c45fabbf7",
   "metadata": {},
   "outputs": [],
   "source": [
    "def gender_cfg(pth='weights'):\n",
    "    \"\"\"\n",
    "    生成模型路径配置参数\n",
    "    \"\"\"\n",
    "    tmp = dict()\n",
    "    model_lst = list(pathlib.Path(pth).glob('*.pt'))\n",
    "    for mpth in model_lst:\n",
    "        mpth = str(mpth)\n",
    "        file = mpth.split(os.path.sep)[-1]\n",
    "        tmp[file[:-3]]=os.path.abspath(mpth)\n",
    "    return tmp"
   ]
  },
  {
   "cell_type": "markdown",
   "id": "2ac2e072-9028-478a-a0fa-397fee58f392",
   "metadata": {},
   "source": [
    "4 各种工具"
   ]
  },
  {
   "cell_type": "code",
   "execution_count": 8,
   "id": "73cd17cf-06e8-4765-a5fb-61ccce4844f9",
   "metadata": {},
   "outputs": [],
   "source": [
    "def dct2str(dct:dict):\n",
    "    tmp = []\n",
    "    for k,v in dct.items():\n",
    "        tmp.append(f\"{k}:  {v}\\n\")\n",
    "    return tmp\n",
    "def mkdir(p):\n",
    "    if os.path.isfile(p):\n",
    "        p = os.path.dirname(p)\n",
    "    os.makedirs(p,exist_ok=True)\n",
    "def draw_fig(share_log,figpth):\n",
    "    plt.title('GPU USED RATIO')\n",
    "    plt.xlabel('times')   # 统计gpu次数 不是时间秒\n",
    "    plt.ylabel('used-ratio')\n",
    "    \n",
    "    y = share_log['gpu-used-ratio']\n",
    "    x = np.linspace(0,len(y),len(y))\n",
    "    plt.plot(x,y,COLOR[0],label='gpu-used-ratio',marker='.')\n",
    "    for i,points in enumerate(share_log['cut-points']):\n",
    "        values = list(points.values())\n",
    "        plt.axvspan(xmin=values[0][0], xmax=values[0][1], facecolor=COLOR[i+1], alpha=0.3,label=list(points.keys())[0])  \n",
    "    plt.legend(loc='lower right')\n",
    "    plt.savefig(figpth)   \n",
    "    "
   ]
  },
  {
   "cell_type": "markdown",
   "id": "c4c5ebc3-5061-4637-a964-54497596f3bb",
   "metadata": {},
   "source": [
    "5 掉用主函数"
   ]
  },
  {
   "cell_type": "code",
   "execution_count": 9,
   "id": "1006869a-6a65-4229-a607-fba93cdccf05",
   "metadata": {},
   "outputs": [
    {
     "name": "stdout",
     "output_type": "stream",
     "text": [
      "[INFO]   res50_23wheel start to check...\n",
      "[INFO]   res50_23wheel checked~\n",
      "[INFO]   res50_4wheel start to check...\n",
      "[INFO]   res50_4wheel checked~\n",
      "[INFO]   yolov5n_cls_vague start to check...\n",
      "[INFO]   yolov5n_cls_vague checked~\n",
      "[INFO]   res50_vague start to check...\n",
      "[INFO]   res50_vague checked~\n",
      "[INFO]   yolov5n_cls_s_23wheel start to check...\n",
      "[INFO]   yolov5n_cls_s_23wheel checked~\n",
      "[INFO]   yolov5n_cls_s_4wheel start to check...\n",
      "[INFO]   yolov5n_cls_s_4wheel checked~\n",
      "[INFO]   start draw fig\n",
      "[INFO]   check log save to /home/chenglong/code/monitor_device/log_2022_09_17-180522\n"
     ]
    },
    {
     "data": {
      "image/png": "[encoded data removed]",
      "text/plain": [
       "<Figure size 640x480 with 1 Axes>"
      ]
     },
     "metadata": {},
     "output_type": "display_data"
    }
   ],
   "source": [
    "  \n",
    "if __name__ == \"__main__\":\n",
    "    ddp = os.path.abspath(f\"log_{dt.datetime.now().strftime('%Y_%m_%d-%H%M%S')}\")\n",
    "    mkdir(ddp)\n",
    "    \n",
    "    with open(f\"{ddp}/res_note.txt\",'w') as f:\n",
    "        f.write('*****system_info***** \\n')\n",
    "        host_info = get_host_info()\n",
    "        host_info_lst = dct2str(host_info)\n",
    "        for hif in host_info_lst:\n",
    "            f.write(hif+'\\n')\n",
    "        f.write('*****device_info***** \\n')\n",
    "        device_info = get_device_info()\n",
    "        device_info.pop('state')\n",
    "        device_info_lst = dct2str(device_info)\n",
    "        for dif in device_info_lst:\n",
    "            f.write(dif+'\\n')\n",
    "        f.write('*****start_test***** \\n')\n",
    "        model_pth_lst = gender_cfg(pth='weights_bck')\n",
    "        processes = []\n",
    "        with mp.Manager() as MG:\n",
    "            share_sign = MG.dict()\n",
    "            \"\"\"\n",
    "            share_sign['recording'] = ['',False]  # [k,False]  or [k,True]   # 检测模型的开启结束\n",
    "            share_sign['state'] = True   # 退出监控循环 \n",
    "            share_sign['close'] = False   # 关闭统计gpu进程程序\n",
    "            \"\"\"\n",
    "            share_sign['recording'] = ['',False]  # [xxx,bool]\n",
    "            share_sign['state'] = True\n",
    "            share_sign['close'] = False\n",
    "            \n",
    "            share_log = MG.dict()\n",
    "            share_log['input-data-shape'] = ''\n",
    "            share_log['every-infer-cost-time'] = dict()\n",
    "            share_log['gpu-used-ratio'] = []  \n",
    "            share_log['cut-points'] = dict()\n",
    "            \"\"\"key:\n",
    "            ['input-data-shape']\n",
    "            ['every-infer-cost-time'] - {['res18']:10.0,['res19']:11.0,['res20']:12.0}\n",
    "            ['gpu-used-ratio'] - {['res18']:[],['res19']:[],['res20']:[]}  \n",
    "            ['cut-points'] - {['res18']:[,],['res19']:[,],['res20']:[,]}  \n",
    "            \"\"\"\n",
    "           \n",
    "            processes.append(mp.Process(target=costime,args=(model_pth_lst,share_sign,share_log)))  # 遍历推理模型 不更新参数\n",
    "            processes.append(mp.Process(target=check_gpu_mem_usedRate,args=(share_sign,share_log)))   # 一直在统计，上面给出解说命令\n",
    "            for p in processes:\n",
    "                p.start()\n",
    "            for p in processes:\n",
    "                p.join()\n",
    "            \n",
    "            \n",
    "            f.write(f\"input-data-shape    {share_log['input-data-shape']}\\n\")\n",
    "            for k,v in share_log['every-infer-cost-time'].items():\n",
    "                f.write(f\"******{k}******\\n\")\n",
    "                f.write(f\"{k}.pt    {v}\\n\")\n",
    "                            \n",
    "            print(\"[INFO]   start draw fig\")\n",
    "            figpth = f\"{ddp}/gpu_used_ratio.jpg\"   \n",
    "            draw_fig(share_log,figpth) \n",
    "    print(f\"[INFO]   check log save to {ddp}\")"
   ]
  },
  {
   "cell_type": "markdown",
   "id": "e848d893-046c-4cd4-a83c-2f1337e15005",
   "metadata": {},
   "source": [
    "weights_bck文件说明，放的都是权重文件\n",
    "```plain text\n",
    "weights_bck\\\n",
    "        ├── res50_4wheel.pt\n",
    "        └── yolov5n_cls_s_4wheel.pt\n",
    "```"
   ]
  },
  {
   "cell_type": "markdown",
   "id": "87afb62a-d60b-4c2d-8ae6-2625a0531a43",
   "metadata": {},
   "source": [
    "requirement.txt\n",
    "```plain text\n",
    "pynvml\n",
    "torch+cuda\n",
    "pathlib\n",
    "platform\n",
    "psutil\n",
    "numpy\n",
    "matplotlib\n",
    "```"
   ]
  },
  {
   "cell_type": "markdown",
   "id": "fc784172",
   "metadata": {},
   "source": [
    "改进\n",
    "在统计每个模型使用gpu之间，用下面命令清除缓存。\n",
    "```python3\n",
    "torch.cuda.empty_cache()\n",
    "```\n",
    "然后判断是否干净了，再去做判断\n",
    "```python3\n",
    "if torch.cuda.memory_reserved('cuda:0')==0:\n",
    "    return True\n",
    "else:\n",
    "    return False\n",
    "```"
   ]
  }
 ],
 "metadata": {
  "kernelspec": {
   "display_name": "Python 3.7.11 ('env_torch')",
   "language": "python",
   "name": "python3"
  },
  "language_info": {
   "codemirror_mode": {
    "name": "ipython",
    "version": 3
   },
   "file_extension": ".py",
   "mimetype": "text/x-python",
   "name": "python",
   "nbconvert_exporter": "python",
   "pygments_lexer": "ipython3",
   "version": "3.7.11"
  },
  "vscode": {
   "interpreter": {
    "hash": "e3ca9276dc1a01f290bfacb4c2b7a55cfccb1f9c0daa96230baf4eb294054422"
   }
  }
 },
 "nbformat": 4,
 "nbformat_minor": 5
}
